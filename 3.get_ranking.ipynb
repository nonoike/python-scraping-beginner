{
 "cells": [
  {
   "cell_type": "markdown",
   "metadata": {},
   "source": [
    "# ランキングの取得"
   ]
  },
  {
   "cell_type": "markdown",
   "metadata": {},
   "source": [
    "- 繰り返しのデータがある場合はまず1つのデータから情報を抽出 → それを元にループ処理にする、という段階を踏むべし。また事前に同じフォーマットであることを確認しておく。\n",
    "- タグは複数回使われる可能性が高いので親の構造から辿っていくと良い。`element`, `elements` の使い分けに注意。"
   ]
  },
  {
   "cell_type": "code",
   "execution_count": 1,
   "metadata": {},
   "outputs": [],
   "source": [
    "from selenium import webdriver\n",
    "browser = webdriver.Chrome()\n",
    "browser.get('https://scraping-for-beginner.herokuapp.com/ranking/')"
   ]
  },
  {
   "cell_type": "markdown",
   "metadata": {},
   "source": [
    "## 個別取得"
   ]
  },
  {
   "cell_type": "code",
   "execution_count": 2,
   "metadata": {},
   "outputs": [
    {
     "data": {
      "text/plain": [
       "'1\\n観光地 1\\n4.7\\n楽しさ\\n4.6\\n満喫できた\\n人混みの多さ\\n4.5\\n時間帯によって混雑具合は違った\\n景色\\n4.9\\n景色に魅了された\\nアクセス\\n4.2\\n船で2時間ほどであった'"
      ]
     },
     "execution_count": 2,
     "metadata": {},
     "output_type": "execute_result"
    }
   ],
   "source": [
    "elem_rankingBox = browser.find_element_by_class_name('u_areaListRankingBox')\n",
    "elem_rankingBox.text"
   ]
  },
  {
   "cell_type": "code",
   "execution_count": 3,
   "metadata": {},
   "outputs": [
    {
     "data": {
      "text/plain": [
       "'1\\n観光地 1'"
      ]
     },
     "execution_count": 3,
     "metadata": {},
     "output_type": "execute_result"
    }
   ],
   "source": [
    "elem_title = elem_rankingBox.find_element_by_class_name('u_title')\n",
    "elem_title.text"
   ]
  },
  {
   "cell_type": "code",
   "execution_count": 4,
   "metadata": {},
   "outputs": [
    {
     "data": {
      "text/plain": [
       "'観光地 1'"
      ]
     },
     "execution_count": 4,
     "metadata": {},
     "output_type": "execute_result"
    }
   ],
   "source": [
    "title = elem_title.text.split('\\n')[1]\n",
    "title"
   ]
  },
  {
   "cell_type": "code",
   "execution_count": 5,
   "metadata": {},
   "outputs": [
    {
     "data": {
      "text/plain": [
       "'4.7'"
      ]
     },
     "execution_count": 5,
     "metadata": {},
     "output_type": "execute_result"
    }
   ],
   "source": [
    "rankBox = browser.find_element_by_class_name('u_rankBox').find_element_by_class_name('evaluateNumber')\n",
    "rankBox.text"
   ]
  },
  {
   "cell_type": "code",
   "execution_count": 6,
   "metadata": {},
   "outputs": [
    {
     "data": {
      "text/plain": [
       "'楽しさ\\n4.6\\n満喫できた\\n人混みの多さ\\n4.5\\n時間帯によって混雑具合は違った\\n景色\\n4.9\\n景色に魅了された\\nアクセス\\n4.2\\n船で2時間ほどであった'"
      ]
     },
     "execution_count": 6,
     "metadata": {},
     "output_type": "execute_result"
    }
   ],
   "source": [
    "elem_tipsItem = browser.find_element_by_class_name('u_categoryTipsItem')\n",
    "elem_tipsItem.text"
   ]
  },
  {
   "cell_type": "code",
   "execution_count": 7,
   "metadata": {},
   "outputs": [
    {
     "name": "stdout",
     "output_type": "stream",
     "text": [
      "4.6\n",
      "4.5\n",
      "4.9\n",
      "4.2\n"
     ]
    }
   ],
   "source": [
    "print(elem_tipsItem.find_elements_by_class_name('is_rank')[0].find_element_by_class_name('evaluateNumber').text)\n",
    "print(elem_tipsItem.find_elements_by_class_name('is_rank')[1].find_element_by_class_name('evaluateNumber').text)\n",
    "print(elem_tipsItem.find_elements_by_class_name('is_rank')[2].find_element_by_class_name('evaluateNumber').text)\n",
    "print(elem_tipsItem.find_elements_by_class_name('is_rank')[3].find_element_by_class_name('evaluateNumber').text)"
   ]
  },
  {
   "cell_type": "markdown",
   "metadata": {},
   "source": [
    "## ページ内一括取得"
   ]
  },
  {
   "cell_type": "code",
   "execution_count": 8,
   "metadata": {},
   "outputs": [
    {
     "data": {
      "text/plain": [
       "10"
      ]
     },
     "execution_count": 8,
     "metadata": {},
     "output_type": "execute_result"
    }
   ],
   "source": [
    "elems_rankingBox = browser.find_elements_by_class_name('u_areaListRankingBox')\n",
    "len(elems_rankingBox)"
   ]
  },
  {
   "cell_type": "code",
   "execution_count": 9,
   "metadata": {
    "scrolled": true
   },
   "outputs": [
    {
     "data": {
      "text/plain": [
       "['観光地 1',\n",
       " '観光地 2',\n",
       " '観光地 3',\n",
       " '観光地 4',\n",
       " '観光地 5',\n",
       " '観光地 6',\n",
       " '観光地 7',\n",
       " '観光地 8',\n",
       " '観光地 9',\n",
       " '観光地 10']"
      ]
     },
     "execution_count": 9,
     "metadata": {},
     "output_type": "execute_result"
    }
   ],
   "source": [
    "titles = []\n",
    "for elem_rankingBox in elems_rankingBox:\n",
    "    elem_title = elem_rankingBox.find_element_by_class_name('u_title')\n",
    "    title = elem_title.text.split('\\n')[1]\n",
    "    titles.append(title)\n",
    "\n",
    "titles"
   ]
  },
  {
   "cell_type": "code",
   "execution_count": 10,
   "metadata": {},
   "outputs": [
    {
     "data": {
      "text/plain": [
       "[4.7, 4.7, 4.6, 4.5, 4.5, 4.4, 4.3, 4.3, 4.2, 4.1]"
      ]
     },
     "execution_count": 10,
     "metadata": {},
     "output_type": "execute_result"
    }
   ],
   "source": [
    "elems_rankBox = browser.find_elements_by_class_name('u_rankBox')\n",
    "ranks = [float(elem_rankBox.find_element_by_class_name('evaluateNumber').text) for elem_rankBox in elems_rankBox]\n",
    "ranks"
   ]
  },
  {
   "cell_type": "code",
   "execution_count": 11,
   "metadata": {},
   "outputs": [
    {
     "data": {
      "text/plain": [
       "[[4.6, 4.5, 4.9, 4.2],\n",
       " [4.6, 4.5, 4.9, 4.2],\n",
       " [4.5, 4.4, 4.8, 4.1],\n",
       " [4.4, 4.4, 4.8, 4.0],\n",
       " [4.4, 4.3, 4.7, 4.0],\n",
       " [4.3, 4.3, 4.7, 3.9],\n",
       " [4.2, 4.2, 4.6, 3.8],\n",
       " [4.2, 4.2, 4.6, 3.8],\n",
       " [4.1, 4.1, 4.5, 3.7],\n",
       " [4.0, 4.1, 4.4, 3.6]]"
      ]
     },
     "execution_count": 11,
     "metadata": {},
     "output_type": "execute_result"
    }
   ],
   "source": [
    "elems_tipsItem = browser.find_elements_by_class_name('u_categoryTipsItem')\n",
    "\n",
    "evaluateNumbers = []\n",
    "for elem_tipsItem in elems_tipsItem:\n",
    "    elems_rank = elem_tipsItem.find_elements_by_class_name('is_rank')\n",
    "    _evaluateNumbers = []\n",
    "    for elem_rank in elems_rank:\n",
    "        _evaluateNumbers.append(float(elem_rank.find_element_by_class_name('evaluateNumber').text))\n",
    "    evaluateNumbers.append(_evaluateNumbers)\n",
    "evaluateNumbers"
   ]
  },
  {
   "cell_type": "markdown",
   "metadata": {},
   "source": [
    "## ページング"
   ]
  },
  {
   "cell_type": "code",
   "execution_count": 12,
   "metadata": {},
   "outputs": [],
   "source": [
    "def get_titles():\n",
    "    _titles = []\n",
    "    elems_rankingBox = browser.find_elements_by_class_name('u_areaListRankingBox')\n",
    "    for elem_rankingBox in elems_rankingBox:\n",
    "        elem_title = elem_rankingBox.find_element_by_class_name('u_title')\n",
    "        title = elem_title.text.split('\\n')[1]\n",
    "        _titles.append(title)\n",
    "    return _titles"
   ]
  },
  {
   "cell_type": "code",
   "execution_count": 13,
   "metadata": {},
   "outputs": [],
   "source": [
    "def get_ranks():\n",
    "    elems_rankBox = browser.find_elements_by_class_name('u_rankBox')\n",
    "    return [float(elem_rankBox.find_element_by_class_name('evaluateNumber').text) for elem_rankBox in elems_rankBox]"
   ]
  },
  {
   "cell_type": "code",
   "execution_count": 14,
   "metadata": {},
   "outputs": [],
   "source": [
    "def get_categories():\n",
    "    elems_tipsItem = browser.find_elements_by_class_name('u_categoryTipsItem')\n",
    "\n",
    "    evaluateNumbers = []\n",
    "    for elem_tipsItem in elems_tipsItem:\n",
    "        elems_rank = elem_tipsItem.find_elements_by_class_name('is_rank')\n",
    "        _evaluateNumbers = []\n",
    "        for elem_rank in elems_rank:\n",
    "            _evaluateNumbers.append(float(elem_rank.find_element_by_class_name('evaluateNumber').text))\n",
    "        evaluateNumbers.append(_evaluateNumbers)\n",
    "    return evaluateNumbers"
   ]
  },
  {
   "cell_type": "code",
   "execution_count": 15,
   "metadata": {},
   "outputs": [],
   "source": [
    "titles = []\n",
    "ranks = []\n",
    "categories = []\n",
    "\n",
    "for page in range(1, 4):\n",
    "    url = 'https://scraping-for-beginner.herokuapp.com/ranking/?page={}'.format(page)\n",
    "    browser.get(url)\n",
    "\n",
    "    titles.append(get_titles())\n",
    "    ranks.append(get_ranks())\n",
    "    categories.append(get_categories())"
   ]
  },
  {
   "cell_type": "code",
   "execution_count": 16,
   "metadata": {},
   "outputs": [],
   "source": [
    "def flatten(nested_list):\n",
    "    return sum(nested_list, [])\n",
    "\n",
    "titles = flatten(titles)\n",
    "ranks = flatten(ranks)\n",
    "categories = flatten(categories)"
   ]
  },
  {
   "cell_type": "code",
   "execution_count": 17,
   "metadata": {
    "scrolled": false
   },
   "outputs": [
    {
     "data": {
      "text/plain": [
       "['観光地 1',\n",
       " '観光地 2',\n",
       " '観光地 3',\n",
       " '観光地 4',\n",
       " '観光地 5',\n",
       " '観光地 6',\n",
       " '観光地 7',\n",
       " '観光地 8',\n",
       " '観光地 9',\n",
       " '観光地 10',\n",
       " '観光地 11',\n",
       " '観光地 12',\n",
       " '観光地 13',\n",
       " '観光地 14',\n",
       " '観光地 15',\n",
       " '観光地 16',\n",
       " '観光地 17',\n",
       " '観光地 18',\n",
       " '観光地 19',\n",
       " '観光地 20',\n",
       " '観光地 21',\n",
       " '観光地 22',\n",
       " '観光地 23',\n",
       " '観光地 24',\n",
       " '観光地 25',\n",
       " '観光地 26',\n",
       " '観光地 27',\n",
       " '観光地 28',\n",
       " '観光地 29',\n",
       " '観光地 30']"
      ]
     },
     "execution_count": 17,
     "metadata": {},
     "output_type": "execute_result"
    }
   ],
   "source": [
    "titles"
   ]
  },
  {
   "cell_type": "code",
   "execution_count": 18,
   "metadata": {
    "scrolled": false
   },
   "outputs": [
    {
     "data": {
      "text/plain": [
       "[4.7,\n",
       " 4.7,\n",
       " 4.6,\n",
       " 4.5,\n",
       " 4.5,\n",
       " 4.4,\n",
       " 4.3,\n",
       " 4.3,\n",
       " 4.2,\n",
       " 4.1,\n",
       " 4.1,\n",
       " 4.0,\n",
       " 3.9,\n",
       " 3.9,\n",
       " 3.8,\n",
       " 3.7,\n",
       " 3.7,\n",
       " 3.6,\n",
       " 3.5,\n",
       " 3.5,\n",
       " 3.4,\n",
       " 3.3,\n",
       " 3.3,\n",
       " 3.2,\n",
       " 3.1,\n",
       " 3.1,\n",
       " 3.0,\n",
       " 2.9,\n",
       " 2.9,\n",
       " 2.8]"
      ]
     },
     "execution_count": 18,
     "metadata": {},
     "output_type": "execute_result"
    }
   ],
   "source": [
    "ranks"
   ]
  },
  {
   "cell_type": "code",
   "execution_count": 19,
   "metadata": {},
   "outputs": [
    {
     "data": {
      "text/plain": [
       "[[4.6, 4.5, 4.9, 4.2],\n",
       " [4.6, 4.5, 4.9, 4.2],\n",
       " [4.5, 4.4, 4.8, 4.1],\n",
       " [4.4, 4.4, 4.8, 4.0],\n",
       " [4.4, 4.3, 4.7, 4.0],\n",
       " [4.3, 4.3, 4.7, 3.9],\n",
       " [4.2, 4.2, 4.6, 3.8],\n",
       " [4.2, 4.2, 4.6, 3.8],\n",
       " [4.1, 4.1, 4.5, 3.7],\n",
       " [4.0, 4.1, 4.4, 3.6],\n",
       " [4.0, 4.0, 4.4, 3.6],\n",
       " [3.9, 4.0, 4.3, 3.5],\n",
       " [3.8, 3.9, 4.3, 3.4],\n",
       " [3.8, 3.9, 4.2, 3.4],\n",
       " [3.7, 3.8, 4.2, 3.3],\n",
       " [3.6, 3.8, 4.1, 3.2],\n",
       " [3.6, 3.7, 4.1, 3.2],\n",
       " [3.5, 3.7, 4.0, 3.1],\n",
       " [3.4, 3.6, 3.9, 3.0],\n",
       " [3.4, 3.6, 3.9, 3.0],\n",
       " [3.3, 3.5, 3.8, 2.9],\n",
       " [3.2, 3.5, 3.8, 2.8],\n",
       " [3.2, 3.4, 3.7, 2.8],\n",
       " [3.1, 3.4, 3.7, 2.7],\n",
       " [3.0, 3.3, 3.6, 2.6],\n",
       " [3.0, 3.3, 3.6, 2.6],\n",
       " [2.9, 3.2, 3.5, 2.5],\n",
       " [2.8, 3.2, 3.4, 2.4],\n",
       " [2.8, 3.1, 3.4, 2.4],\n",
       " [2.7, 3.1, 3.3, 2.3]]"
      ]
     },
     "execution_count": 19,
     "metadata": {},
     "output_type": "execute_result"
    }
   ],
   "source": [
    "categories"
   ]
  },
  {
   "cell_type": "markdown",
   "metadata": {},
   "source": [
    "## DataFrame の利用・CSV出力"
   ]
  },
  {
   "cell_type": "code",
   "execution_count": 20,
   "metadata": {},
   "outputs": [],
   "source": [
    "import pandas as pd"
   ]
  },
  {
   "cell_type": "code",
   "execution_count": 21,
   "metadata": {},
   "outputs": [],
   "source": [
    "df = pd.DataFrame()"
   ]
  },
  {
   "cell_type": "code",
   "execution_count": 22,
   "metadata": {},
   "outputs": [],
   "source": [
    "df_categories = pd.DataFrame(categories, columns=['楽しさ', '人混みの多さ', '景色', 'アクセス'])"
   ]
  },
  {
   "cell_type": "code",
   "execution_count": 23,
   "metadata": {},
   "outputs": [
    {
     "data": {
      "text/html": [
       "<div>\n",
       "<style scoped>\n",
       "    .dataframe tbody tr th:only-of-type {\n",
       "        vertical-align: middle;\n",
       "    }\n",
       "\n",
       "    .dataframe tbody tr th {\n",
       "        vertical-align: top;\n",
       "    }\n",
       "\n",
       "    .dataframe thead th {\n",
       "        text-align: right;\n",
       "    }\n",
       "</style>\n",
       "<table border=\"1\" class=\"dataframe\">\n",
       "  <thead>\n",
       "    <tr style=\"text-align: right;\">\n",
       "      <th></th>\n",
       "      <th>観光地名</th>\n",
       "      <th>総合評価</th>\n",
       "      <th>楽しさ</th>\n",
       "      <th>人混みの多さ</th>\n",
       "      <th>景色</th>\n",
       "      <th>アクセス</th>\n",
       "    </tr>\n",
       "  </thead>\n",
       "  <tbody>\n",
       "    <tr>\n",
       "      <th>0</th>\n",
       "      <td>観光地 1</td>\n",
       "      <td>4.7</td>\n",
       "      <td>4.6</td>\n",
       "      <td>4.5</td>\n",
       "      <td>4.9</td>\n",
       "      <td>4.2</td>\n",
       "    </tr>\n",
       "    <tr>\n",
       "      <th>1</th>\n",
       "      <td>観光地 2</td>\n",
       "      <td>4.7</td>\n",
       "      <td>4.6</td>\n",
       "      <td>4.5</td>\n",
       "      <td>4.9</td>\n",
       "      <td>4.2</td>\n",
       "    </tr>\n",
       "    <tr>\n",
       "      <th>2</th>\n",
       "      <td>観光地 3</td>\n",
       "      <td>4.6</td>\n",
       "      <td>4.5</td>\n",
       "      <td>4.4</td>\n",
       "      <td>4.8</td>\n",
       "      <td>4.1</td>\n",
       "    </tr>\n",
       "    <tr>\n",
       "      <th>3</th>\n",
       "      <td>観光地 4</td>\n",
       "      <td>4.5</td>\n",
       "      <td>4.4</td>\n",
       "      <td>4.4</td>\n",
       "      <td>4.8</td>\n",
       "      <td>4.0</td>\n",
       "    </tr>\n",
       "    <tr>\n",
       "      <th>4</th>\n",
       "      <td>観光地 5</td>\n",
       "      <td>4.5</td>\n",
       "      <td>4.4</td>\n",
       "      <td>4.3</td>\n",
       "      <td>4.7</td>\n",
       "      <td>4.0</td>\n",
       "    </tr>\n",
       "    <tr>\n",
       "      <th>5</th>\n",
       "      <td>観光地 6</td>\n",
       "      <td>4.4</td>\n",
       "      <td>4.3</td>\n",
       "      <td>4.3</td>\n",
       "      <td>4.7</td>\n",
       "      <td>3.9</td>\n",
       "    </tr>\n",
       "    <tr>\n",
       "      <th>6</th>\n",
       "      <td>観光地 7</td>\n",
       "      <td>4.3</td>\n",
       "      <td>4.2</td>\n",
       "      <td>4.2</td>\n",
       "      <td>4.6</td>\n",
       "      <td>3.8</td>\n",
       "    </tr>\n",
       "    <tr>\n",
       "      <th>7</th>\n",
       "      <td>観光地 8</td>\n",
       "      <td>4.3</td>\n",
       "      <td>4.2</td>\n",
       "      <td>4.2</td>\n",
       "      <td>4.6</td>\n",
       "      <td>3.8</td>\n",
       "    </tr>\n",
       "    <tr>\n",
       "      <th>8</th>\n",
       "      <td>観光地 9</td>\n",
       "      <td>4.2</td>\n",
       "      <td>4.1</td>\n",
       "      <td>4.1</td>\n",
       "      <td>4.5</td>\n",
       "      <td>3.7</td>\n",
       "    </tr>\n",
       "    <tr>\n",
       "      <th>9</th>\n",
       "      <td>観光地 10</td>\n",
       "      <td>4.1</td>\n",
       "      <td>4.0</td>\n",
       "      <td>4.1</td>\n",
       "      <td>4.4</td>\n",
       "      <td>3.6</td>\n",
       "    </tr>\n",
       "    <tr>\n",
       "      <th>10</th>\n",
       "      <td>観光地 11</td>\n",
       "      <td>4.1</td>\n",
       "      <td>4.0</td>\n",
       "      <td>4.0</td>\n",
       "      <td>4.4</td>\n",
       "      <td>3.6</td>\n",
       "    </tr>\n",
       "    <tr>\n",
       "      <th>11</th>\n",
       "      <td>観光地 12</td>\n",
       "      <td>4.0</td>\n",
       "      <td>3.9</td>\n",
       "      <td>4.0</td>\n",
       "      <td>4.3</td>\n",
       "      <td>3.5</td>\n",
       "    </tr>\n",
       "    <tr>\n",
       "      <th>12</th>\n",
       "      <td>観光地 13</td>\n",
       "      <td>3.9</td>\n",
       "      <td>3.8</td>\n",
       "      <td>3.9</td>\n",
       "      <td>4.3</td>\n",
       "      <td>3.4</td>\n",
       "    </tr>\n",
       "    <tr>\n",
       "      <th>13</th>\n",
       "      <td>観光地 14</td>\n",
       "      <td>3.9</td>\n",
       "      <td>3.8</td>\n",
       "      <td>3.9</td>\n",
       "      <td>4.2</td>\n",
       "      <td>3.4</td>\n",
       "    </tr>\n",
       "    <tr>\n",
       "      <th>14</th>\n",
       "      <td>観光地 15</td>\n",
       "      <td>3.8</td>\n",
       "      <td>3.7</td>\n",
       "      <td>3.8</td>\n",
       "      <td>4.2</td>\n",
       "      <td>3.3</td>\n",
       "    </tr>\n",
       "    <tr>\n",
       "      <th>15</th>\n",
       "      <td>観光地 16</td>\n",
       "      <td>3.7</td>\n",
       "      <td>3.6</td>\n",
       "      <td>3.8</td>\n",
       "      <td>4.1</td>\n",
       "      <td>3.2</td>\n",
       "    </tr>\n",
       "    <tr>\n",
       "      <th>16</th>\n",
       "      <td>観光地 17</td>\n",
       "      <td>3.7</td>\n",
       "      <td>3.6</td>\n",
       "      <td>3.7</td>\n",
       "      <td>4.1</td>\n",
       "      <td>3.2</td>\n",
       "    </tr>\n",
       "    <tr>\n",
       "      <th>17</th>\n",
       "      <td>観光地 18</td>\n",
       "      <td>3.6</td>\n",
       "      <td>3.5</td>\n",
       "      <td>3.7</td>\n",
       "      <td>4.0</td>\n",
       "      <td>3.1</td>\n",
       "    </tr>\n",
       "    <tr>\n",
       "      <th>18</th>\n",
       "      <td>観光地 19</td>\n",
       "      <td>3.5</td>\n",
       "      <td>3.4</td>\n",
       "      <td>3.6</td>\n",
       "      <td>3.9</td>\n",
       "      <td>3.0</td>\n",
       "    </tr>\n",
       "    <tr>\n",
       "      <th>19</th>\n",
       "      <td>観光地 20</td>\n",
       "      <td>3.5</td>\n",
       "      <td>3.4</td>\n",
       "      <td>3.6</td>\n",
       "      <td>3.9</td>\n",
       "      <td>3.0</td>\n",
       "    </tr>\n",
       "    <tr>\n",
       "      <th>20</th>\n",
       "      <td>観光地 21</td>\n",
       "      <td>3.4</td>\n",
       "      <td>3.3</td>\n",
       "      <td>3.5</td>\n",
       "      <td>3.8</td>\n",
       "      <td>2.9</td>\n",
       "    </tr>\n",
       "    <tr>\n",
       "      <th>21</th>\n",
       "      <td>観光地 22</td>\n",
       "      <td>3.3</td>\n",
       "      <td>3.2</td>\n",
       "      <td>3.5</td>\n",
       "      <td>3.8</td>\n",
       "      <td>2.8</td>\n",
       "    </tr>\n",
       "    <tr>\n",
       "      <th>22</th>\n",
       "      <td>観光地 23</td>\n",
       "      <td>3.3</td>\n",
       "      <td>3.2</td>\n",
       "      <td>3.4</td>\n",
       "      <td>3.7</td>\n",
       "      <td>2.8</td>\n",
       "    </tr>\n",
       "    <tr>\n",
       "      <th>23</th>\n",
       "      <td>観光地 24</td>\n",
       "      <td>3.2</td>\n",
       "      <td>3.1</td>\n",
       "      <td>3.4</td>\n",
       "      <td>3.7</td>\n",
       "      <td>2.7</td>\n",
       "    </tr>\n",
       "    <tr>\n",
       "      <th>24</th>\n",
       "      <td>観光地 25</td>\n",
       "      <td>3.1</td>\n",
       "      <td>3.0</td>\n",
       "      <td>3.3</td>\n",
       "      <td>3.6</td>\n",
       "      <td>2.6</td>\n",
       "    </tr>\n",
       "    <tr>\n",
       "      <th>25</th>\n",
       "      <td>観光地 26</td>\n",
       "      <td>3.1</td>\n",
       "      <td>3.0</td>\n",
       "      <td>3.3</td>\n",
       "      <td>3.6</td>\n",
       "      <td>2.6</td>\n",
       "    </tr>\n",
       "    <tr>\n",
       "      <th>26</th>\n",
       "      <td>観光地 27</td>\n",
       "      <td>3.0</td>\n",
       "      <td>2.9</td>\n",
       "      <td>3.2</td>\n",
       "      <td>3.5</td>\n",
       "      <td>2.5</td>\n",
       "    </tr>\n",
       "    <tr>\n",
       "      <th>27</th>\n",
       "      <td>観光地 28</td>\n",
       "      <td>2.9</td>\n",
       "      <td>2.8</td>\n",
       "      <td>3.2</td>\n",
       "      <td>3.4</td>\n",
       "      <td>2.4</td>\n",
       "    </tr>\n",
       "    <tr>\n",
       "      <th>28</th>\n",
       "      <td>観光地 29</td>\n",
       "      <td>2.9</td>\n",
       "      <td>2.8</td>\n",
       "      <td>3.1</td>\n",
       "      <td>3.4</td>\n",
       "      <td>2.4</td>\n",
       "    </tr>\n",
       "    <tr>\n",
       "      <th>29</th>\n",
       "      <td>観光地 30</td>\n",
       "      <td>2.8</td>\n",
       "      <td>2.7</td>\n",
       "      <td>3.1</td>\n",
       "      <td>3.3</td>\n",
       "      <td>2.3</td>\n",
       "    </tr>\n",
       "  </tbody>\n",
       "</table>\n",
       "</div>"
      ],
      "text/plain": [
       "      観光地名  総合評価  楽しさ  人混みの多さ   景色  アクセス\n",
       "0    観光地 1   4.7  4.6     4.5  4.9   4.2\n",
       "1    観光地 2   4.7  4.6     4.5  4.9   4.2\n",
       "2    観光地 3   4.6  4.5     4.4  4.8   4.1\n",
       "3    観光地 4   4.5  4.4     4.4  4.8   4.0\n",
       "4    観光地 5   4.5  4.4     4.3  4.7   4.0\n",
       "5    観光地 6   4.4  4.3     4.3  4.7   3.9\n",
       "6    観光地 7   4.3  4.2     4.2  4.6   3.8\n",
       "7    観光地 8   4.3  4.2     4.2  4.6   3.8\n",
       "8    観光地 9   4.2  4.1     4.1  4.5   3.7\n",
       "9   観光地 10   4.1  4.0     4.1  4.4   3.6\n",
       "10  観光地 11   4.1  4.0     4.0  4.4   3.6\n",
       "11  観光地 12   4.0  3.9     4.0  4.3   3.5\n",
       "12  観光地 13   3.9  3.8     3.9  4.3   3.4\n",
       "13  観光地 14   3.9  3.8     3.9  4.2   3.4\n",
       "14  観光地 15   3.8  3.7     3.8  4.2   3.3\n",
       "15  観光地 16   3.7  3.6     3.8  4.1   3.2\n",
       "16  観光地 17   3.7  3.6     3.7  4.1   3.2\n",
       "17  観光地 18   3.6  3.5     3.7  4.0   3.1\n",
       "18  観光地 19   3.5  3.4     3.6  3.9   3.0\n",
       "19  観光地 20   3.5  3.4     3.6  3.9   3.0\n",
       "20  観光地 21   3.4  3.3     3.5  3.8   2.9\n",
       "21  観光地 22   3.3  3.2     3.5  3.8   2.8\n",
       "22  観光地 23   3.3  3.2     3.4  3.7   2.8\n",
       "23  観光地 24   3.2  3.1     3.4  3.7   2.7\n",
       "24  観光地 25   3.1  3.0     3.3  3.6   2.6\n",
       "25  観光地 26   3.1  3.0     3.3  3.6   2.6\n",
       "26  観光地 27   3.0  2.9     3.2  3.5   2.5\n",
       "27  観光地 28   2.9  2.8     3.2  3.4   2.4\n",
       "28  観光地 29   2.9  2.8     3.1  3.4   2.4\n",
       "29  観光地 30   2.8  2.7     3.1  3.3   2.3"
      ]
     },
     "execution_count": 23,
     "metadata": {},
     "output_type": "execute_result"
    }
   ],
   "source": [
    "df['観光地名'] = titles\n",
    "df['総合評価'] = ranks\n",
    "df = pd.concat([df, df_categories], axis=1)\n",
    "df"
   ]
  },
  {
   "cell_type": "code",
   "execution_count": 24,
   "metadata": {},
   "outputs": [],
   "source": [
    "df.to_csv('観光地情報.csv', index=False)"
   ]
  }
 ],
 "metadata": {
  "kernelspec": {
   "display_name": "Python 3",
   "language": "python",
   "name": "python3"
  },
  "language_info": {
   "codemirror_mode": {
    "name": "ipython",
    "version": 3
   },
   "file_extension": ".py",
   "mimetype": "text/x-python",
   "name": "python",
   "nbconvert_exporter": "python",
   "pygments_lexer": "ipython3",
   "version": "3.6.5"
  }
 },
 "nbformat": 4,
 "nbformat_minor": 2
}
